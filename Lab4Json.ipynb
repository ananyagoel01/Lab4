{
 "cells": [
  {
   "cell_type": "code",
   "execution_count": 69,
   "id": "ad97ab73",
   "metadata": {},
   "outputs": [],
   "source": [
    "import json\n",
    "import requests \n",
    "import pandas"
   ]
  },
  {
   "cell_type": "code",
   "execution_count": 70,
   "id": "8b8635a9",
   "metadata": {},
   "outputs": [
    {
     "name": "stdout",
     "output_type": "stream",
     "text": [
      "MO\n"
     ]
    }
   ],
   "source": [
    "stock=input()"
   ]
  },
  {
   "cell_type": "code",
   "execution_count": 71,
   "id": "792cf63b",
   "metadata": {},
   "outputs": [],
   "source": [
    "header={'User-Agent': 'Mozilla/5.0 (Macintosh; Intel Mac OS X 10_10_1) AppleWebKit/537.36 (KHTML, like Gecko) Chrome/39.0.2171.95 Safari/537.36'}\n",
    "\n",
    "url1='https://query1.finance.yahoo.com/v7/finance/quote'\n",
    "query1={\"symbols\": stock}\n",
    "response=requests.request(\"GET\",url1,headers=header,params=query1)\n",
    "stock_json=response.json()\n",
    "\n",
    "\n",
    "url2=\"https://query1.finance.yahoo.com/v10/finance/quoteSummary/\"\n",
    "query2 = {\"symbol\": stock, \"modules\":\"financialData\"}\n",
    "response1 = requests.request(\"GET\",url2, headers=header,params=query2)\n",
    "stock_json2 = response1.json()\n",
    "\n",
    "\n",
    "url2=\"https://query1.finance.yahoo.com/v10/finance/quoteSummary/\"\n",
    "query3 = {\"symbol\": stock, \"modules\":\"defaultKeyStatistics\"}\n",
    "response2 = requests.request(\"GET\",url2, headers=header,params=query3)\n",
    "stock_json1 = response2.json()\n",
    "\n",
    "url3='https://query1.finance.yahoo.com/v8/finance/chart/'\n",
    "query4={\"symbolss\":stock}\n",
    "response3 = requests.request(\"GET\",url3, headers=header,params=query4)\n",
    "\n",
    "stock_json3 = response3.json()"
   ]
  },
  {
   "cell_type": "code",
   "execution_count": 72,
   "id": "09d79a9d",
   "metadata": {},
   "outputs": [],
   "source": [
    "ticker=stock_json['quoteResponse']['result'][0]['symbol']"
   ]
  },
  {
   "cell_type": "code",
   "execution_count": 73,
   "id": "9c74cf07",
   "metadata": {},
   "outputs": [],
   "source": [
    "name=stock_json['quoteResponse']['result'][0]['longName']"
   ]
  },
  {
   "cell_type": "code",
   "execution_count": 74,
   "id": "6cb83a18",
   "metadata": {},
   "outputs": [],
   "source": [
    "price=stock_json2['quoteSummary']['result'][0]['financialData']['currentPrice']['fmt']"
   ]
  },
  {
   "cell_type": "code",
   "execution_count": 75,
   "id": "5732a512",
   "metadata": {},
   "outputs": [],
   "source": [
    "mean=stock_json2['quoteSummary']['result'][0]['financialData']['targetMeanPrice']['fmt']"
   ]
  },
  {
   "cell_type": "code",
   "execution_count": 76,
   "id": "9deee308",
   "metadata": {},
   "outputs": [],
   "source": [
    "cash=stock_json2['quoteSummary']['result'][0]['financialData']['totalCash']['fmt']"
   ]
  },
  {
   "cell_type": "code",
   "execution_count": 77,
   "id": "d346345f",
   "metadata": {},
   "outputs": [],
   "source": [
    "profit=stock_json1['quoteSummary']['result'][0]['defaultKeyStatistics']['profitMargins']['fmt']"
   ]
  },
  {
   "cell_type": "code",
   "execution_count": 78,
   "id": "8f1214af",
   "metadata": {},
   "outputs": [],
   "source": [
    "from datetime import date\n",
    "today = date.today().strftime('%m-%d-%Y')"
   ]
  },
  {
   "cell_type": "code",
   "execution_count": 79,
   "id": "2d1e7431",
   "metadata": {},
   "outputs": [
    {
     "name": "stdout",
     "output_type": "stream",
     "text": [
      "10-15-2022 MO Altria Group, Inc. 45.23 48.57 2.57B 8.45%\n"
     ]
    }
   ],
   "source": [
    "print(today, ticker,name,price,mean,cash,profit)"
   ]
  },
  {
   "cell_type": "code",
   "execution_count": 80,
   "id": "42df0590",
   "metadata": {},
   "outputs": [
    {
     "data": {
      "text/plain": [
       "'{\"Date\": \"10-15-2022\", \"Name Ticker\": \"MO\", \"Full Name of the Stock\": \"Altria Group, Inc.\", \"Current Price\": \"45.23\", \"Target Mean Price\": \"48.57\", \"Cash on Hand\": \"2.57B\", \"Profit Margins\": \"8.45%\"}'"
      ]
     },
     "execution_count": 80,
     "metadata": {},
     "output_type": "execute_result"
    }
   ],
   "source": [
    "result={\"Date\":today, \"Name Ticker\":ticker,\"Full Name of the Stock\":name, \"Current Price\":price, \"Target Mean Price\":mean, \"Cash on Hand\": cash, \"Profit Margins\":profit}\n",
    "result_json=json.dumps(result)\n",
    "result_json"
   ]
  },
  {
   "cell_type": "code",
   "execution_count": null,
   "id": "6f6b5746",
   "metadata": {},
   "outputs": [],
   "source": []
  }
 ],
 "metadata": {
  "kernelspec": {
   "display_name": "Python 3 (ipykernel)",
   "language": "python",
   "name": "python3"
  },
  "language_info": {
   "codemirror_mode": {
    "name": "ipython",
    "version": 3
   },
   "file_extension": ".py",
   "mimetype": "text/x-python",
   "name": "python",
   "nbconvert_exporter": "python",
   "pygments_lexer": "ipython3",
   "version": "3.9.12"
  }
 },
 "nbformat": 4,
 "nbformat_minor": 5
}
